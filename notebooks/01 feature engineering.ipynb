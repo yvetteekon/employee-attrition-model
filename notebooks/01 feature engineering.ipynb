{
 "cells": [
  {
   "cell_type": "markdown",
   "id": "0ced1f07",
   "metadata": {},
   "source": [
    "## Import Modules"
   ]
  },
  {
   "cell_type": "code",
   "execution_count": 1,
   "id": "10e34f59",
   "metadata": {
    "jupyter": {
     "source_hidden": true
    },
    "tags": []
   },
   "outputs": [],
   "source": [
    "# Data manipulation\n",
    "import pandas as pd\n",
    "import numpy as np"
   ]
  },
  {
   "cell_type": "markdown",
   "id": "0cd5b9e4",
   "metadata": {},
   "source": [
    "## File Location"
   ]
  },
  {
   "cell_type": "code",
   "execution_count": 2,
   "id": "eda35da1",
   "metadata": {},
   "outputs": [],
   "source": [
    "# file paths\n",
    "RAW_FILEPATH = '../data/raw/'\n",
    "INTERIM_FILEPATH = '../data/interim/'\n",
    "\n",
    "RAW_FILENAME = 'employee_churn_data'\n",
    "INTERIM_FILENAME = 'employee_churn_data_v1'"
   ]
  },
  {
   "cell_type": "markdown",
   "id": "a28813c5",
   "metadata": {},
   "source": [
    "## Load Data"
   ]
  },
  {
   "cell_type": "code",
   "execution_count": 3,
   "id": "8f311ff9",
   "metadata": {
    "jupyter": {
     "source_hidden": true
    }
   },
   "outputs": [],
   "source": [
    "df = pd.read_csv(RAW_FILEPATH + RAW_FILENAME + '.csv')"
   ]
  },
  {
   "cell_type": "code",
   "execution_count": 4,
   "id": "20547257",
   "metadata": {
    "jupyter": {
     "source_hidden": true
    },
    "tags": []
   },
   "outputs": [],
   "source": [
    "# df['left'].value_counts(dropna=False, normalize=True)"
   ]
  },
  {
   "cell_type": "markdown",
   "id": "981d904b",
   "metadata": {},
   "source": [
    "## Derive Additional Features"
   ]
  },
  {
   "cell_type": "code",
   "execution_count": 5,
   "id": "d0631c63",
   "metadata": {
    "jupyter": {
     "source_hidden": true
    }
   },
   "outputs": [
    {
     "data": {
      "text/html": [
       "<style type=\"text/css\">\n",
       "#T_c4b31_row0_col0, #T_c4b31_row0_col1, #T_c4b31_row0_col2, #T_c4b31_row1_col0, #T_c4b31_row1_col1, #T_c4b31_row1_col2, #T_c4b31_row2_col0, #T_c4b31_row2_col1, #T_c4b31_row2_col2 {\n",
       "  text-align: center;\n",
       "}\n",
       "</style>\n",
       "<table id=\"T_c4b31\">\n",
       "  <thead>\n",
       "    <tr>\n",
       "      <th class=\"blank level0\" >&nbsp;</th>\n",
       "      <th id=\"T_c4b31_level0_col0\" class=\"col_heading level0 col0\" >Satisfaction Score Range</th>\n",
       "      <th id=\"T_c4b31_level0_col1\" class=\"col_heading level0 col1\" >Employee Segment</th>\n",
       "      <th id=\"T_c4b31_level0_col2\" class=\"col_heading level0 col2\" >Percentage</th>\n",
       "    </tr>\n",
       "  </thead>\n",
       "  <tbody>\n",
       "    <tr>\n",
       "      <th id=\"T_c4b31_level0_row0\" class=\"row_heading level0 row0\" >0</th>\n",
       "      <td id=\"T_c4b31_row0_col0\" class=\"data row0 col0\" >0.0_0.499</td>\n",
       "      <td id=\"T_c4b31_row0_col1\" class=\"data row0 col1\" >detractors</td>\n",
       "      <td id=\"T_c4b31_row0_col2\" class=\"data row0 col2\" >49.8%</td>\n",
       "    </tr>\n",
       "    <tr>\n",
       "      <th id=\"T_c4b31_level0_row1\" class=\"row_heading level0 row1\" >1</th>\n",
       "      <td id=\"T_c4b31_row1_col0\" class=\"data row1 col0\" >0.5_0.699</td>\n",
       "      <td id=\"T_c4b31_row1_col1\" class=\"data row1 col1\" >passives</td>\n",
       "      <td id=\"T_c4b31_row1_col2\" class=\"data row1 col2\" >38.1%</td>\n",
       "    </tr>\n",
       "    <tr>\n",
       "      <th id=\"T_c4b31_level0_row2\" class=\"row_heading level0 row2\" >2</th>\n",
       "      <td id=\"T_c4b31_row2_col0\" class=\"data row2 col0\" >0.7+</td>\n",
       "      <td id=\"T_c4b31_row2_col1\" class=\"data row2 col1\" >promoters</td>\n",
       "      <td id=\"T_c4b31_row2_col2\" class=\"data row2 col2\" >12.1%</td>\n",
       "    </tr>\n",
       "  </tbody>\n",
       "</table>\n"
      ],
      "text/plain": [
       "<pandas.io.formats.style.Styler at 0x1ca995ba110>"
      ]
     },
     "execution_count": 5,
     "metadata": {},
     "output_type": "execute_result"
    }
   ],
   "source": [
    "# variable for counting\n",
    "# df['count'] = 1\n",
    "\n",
    "# grouping customers according to their satisfaction score\n",
    "bins = [0, 0.4999,  0.6999, 1.1]\n",
    "labels = ['0.0_0.499', '0.5_0.699', '0.7+']\n",
    "df['satisfaction.group2'] = pd.cut(df['satisfaction'], bins, labels=labels, include_lowest=True)\n",
    "\n",
    "# assigning descriptive names to segments based on satisfaction score\n",
    "df['satisfaction.group3'] = np.where(df['satisfaction.group2'] == '0.0_0.499', 'detractors', \n",
    "                                     np.where(df['satisfaction.group2'] == '0.5_0.699', 'passives', \n",
    "                                              np.where(df['satisfaction.group2'] == '0.7+', 'promoters',\n",
    "                                                       'unknown')))\n",
    "\n",
    "df['satisfaction.group3'].value_counts(dropna=False, normalize=True)\n",
    "\n",
    "df_seg = pd.DataFrame({'Satisfaction Score Range' : ['0.0_0.499', '0.5_0.699', '0.7+'], \n",
    "                      'Employee Segment' : ['detractors', 'passives', 'promoters'],\n",
    "                       'Percentage' : ['49.8%', '38.1%', '12.1%']})\n",
    "df_seg = df_seg.style.set_properties(**{'text-align': 'center'}); df_seg"
   ]
  },
  {
   "cell_type": "code",
   "execution_count": 6,
   "id": "2d0c80b6",
   "metadata": {
    "jupyter": {
     "source_hidden": true
    }
   },
   "outputs": [
    {
     "data": {
      "text/html": [
       "<style type=\"text/css\">\n",
       "#T_39e8d_row0_col0, #T_39e8d_row0_col1, #T_39e8d_row0_col2, #T_39e8d_row1_col0, #T_39e8d_row1_col1, #T_39e8d_row1_col2, #T_39e8d_row2_col0, #T_39e8d_row2_col1, #T_39e8d_row2_col2 {\n",
       "  text-align: center;\n",
       "}\n",
       "</style>\n",
       "<table id=\"T_39e8d\">\n",
       "  <thead>\n",
       "    <tr>\n",
       "      <th class=\"blank level0\" >&nbsp;</th>\n",
       "      <th id=\"T_39e8d_level0_col0\" class=\"col_heading level0 col0\" >Review Score Range</th>\n",
       "      <th id=\"T_39e8d_level0_col1\" class=\"col_heading level0 col1\" >Employee Segment</th>\n",
       "      <th id=\"T_39e8d_level0_col2\" class=\"col_heading level0 col2\" >Percentage</th>\n",
       "    </tr>\n",
       "  </thead>\n",
       "  <tbody>\n",
       "    <tr>\n",
       "      <th id=\"T_39e8d_level0_row0\" class=\"row_heading level0 row0\" >0</th>\n",
       "      <td id=\"T_39e8d_row0_col0\" class=\"data row0 col0\" >0.0_0.599</td>\n",
       "      <td id=\"T_39e8d_row0_col1\" class=\"data row0 col1\" >subpar performers</td>\n",
       "      <td id=\"T_39e8d_row0_col2\" class=\"data row0 col2\" >27.9%</td>\n",
       "    </tr>\n",
       "    <tr>\n",
       "      <th id=\"T_39e8d_level0_row1\" class=\"row_heading level0 row1\" >1</th>\n",
       "      <td id=\"T_39e8d_row1_col0\" class=\"data row1 col0\" >0.6_0.699</td>\n",
       "      <td id=\"T_39e8d_row1_col1\" class=\"data row1 col1\" >solid performers</td>\n",
       "      <td id=\"T_39e8d_row1_col2\" class=\"data row1 col2\" >43.9%</td>\n",
       "    </tr>\n",
       "    <tr>\n",
       "      <th id=\"T_39e8d_level0_row2\" class=\"row_heading level0 row2\" >2</th>\n",
       "      <td id=\"T_39e8d_row2_col0\" class=\"data row2 col0\" >0.7+</td>\n",
       "      <td id=\"T_39e8d_row2_col1\" class=\"data row2 col1\" >high performers </td>\n",
       "      <td id=\"T_39e8d_row2_col2\" class=\"data row2 col2\" >28.2%</td>\n",
       "    </tr>\n",
       "  </tbody>\n",
       "</table>\n"
      ],
      "text/plain": [
       "<pandas.io.formats.style.Styler at 0x1ca9be93280>"
      ]
     },
     "execution_count": 6,
     "metadata": {},
     "output_type": "execute_result"
    }
   ],
   "source": [
    "# grouping customers according to their review score\n",
    "bins = [0,  0.5999, 0.6999,  1.1]\n",
    "labels = ['0.0_0.599', '0.6_0.699', '0.7+']\n",
    "df['review.group2'] = pd.cut(df['review'], bins, labels=labels, include_lowest=True)\n",
    "\n",
    "# assigning descriptive names to segments based on review score\n",
    "df['review.group3'] = np.where(df['review.group2'] == '0.0_0.599', 'subpar performers', \n",
    "                                     np.where(df['review.group2'] == '0.6_0.699', 'solid performers', \n",
    "                                              np.where(df['review.group2'] == '0.7+', 'high performers',\n",
    "                                                       'unknown')))\n",
    "\n",
    "df_rev = pd.DataFrame({'Review Score Range' : ['0.0_0.599', '0.6_0.699', '0.7+'], \n",
    "                      'Employee Segment' : ['subpar performers', 'solid performers', 'high performers '],\n",
    "                       'Percentage' : ['27.9%', '43.9%',  '28.2%']})\n",
    "df_rev = df_rev.style.set_properties(**{'text-align': 'center'}); df_rev"
   ]
  },
  {
   "cell_type": "code",
   "execution_count": 7,
   "id": "7a228ade",
   "metadata": {
    "jupyter": {
     "source_hidden": true
    }
   },
   "outputs": [],
   "source": [
    "# grouping customers according to their satisfaction score\n",
    "bins = [0,  184, 220]\n",
    "labels = ['0_184.99', '185+']\n",
    "df['avg_hrs_month.group2'] = pd.cut(df['avg_hrs_month'], bins, labels=labels, include_lowest=True)\n",
    "\n",
    "# assigning descriptive names to segments based on satisfaction score\n",
    "df['avg_hrs_month.group3'] = np.where(df['avg_hrs_month.group2'] == '0_184.99', 'short-hour workers', \n",
    "                                     np.where(df['avg_hrs_month.group2'] == '185+', 'long-hour workers', \n",
    "                                                       'unknown'))"
   ]
  },
  {
   "cell_type": "code",
   "execution_count": 8,
   "id": "367bc058",
   "metadata": {},
   "outputs": [
    {
     "data": {
      "text/plain": [
       "(9540, 16)"
      ]
     },
     "execution_count": 8,
     "metadata": {},
     "output_type": "execute_result"
    }
   ],
   "source": [
    "df.head(2); df.shape"
   ]
  },
  {
   "cell_type": "markdown",
   "id": "9e8e14ec",
   "metadata": {},
   "source": [
    "## Export Data"
   ]
  },
  {
   "cell_type": "code",
   "execution_count": 9,
   "id": "d574665c",
   "metadata": {},
   "outputs": [],
   "source": [
    "df.to_csv(INTERIM_FILEPATH + INTERIM_FILENAME + '.csv', index=False)"
   ]
  }
 ],
 "metadata": {
  "kernelspec": {
   "display_name": "Python 3 (ipykernel)",
   "language": "python",
   "name": "python3"
  },
  "language_info": {
   "codemirror_mode": {
    "name": "ipython",
    "version": 3
   },
   "file_extension": ".py",
   "mimetype": "text/x-python",
   "name": "python",
   "nbconvert_exporter": "python",
   "pygments_lexer": "ipython3",
   "version": "3.10.9"
  },
  "toc": {
   "base_numbering": 1,
   "nav_menu": {},
   "number_sections": true,
   "sideBar": true,
   "skip_h1_title": false,
   "title_cell": "Table of Contents",
   "title_sidebar": "Contents",
   "toc_cell": false,
   "toc_position": {},
   "toc_section_display": true,
   "toc_window_display": false
  },
  "toc-autonumbering": false,
  "toc-showcode": true,
  "toc-showmarkdowntxt": true,
  "toc-showtags": false
 },
 "nbformat": 4,
 "nbformat_minor": 5
}
